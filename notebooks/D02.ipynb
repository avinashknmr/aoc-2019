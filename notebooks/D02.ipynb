{
 "cells": [
  {
   "cell_type": "markdown",
   "metadata": {},
   "source": [
    "[Day 2: 1202 Program Alarm](https://adventofcode.com/2019/day/2)"
   ]
  },
  {
   "cell_type": "code",
   "execution_count": 1,
   "metadata": {},
   "outputs": [],
   "source": [
    "import numpy as np"
   ]
  },
  {
   "cell_type": "code",
   "execution_count": 32,
   "metadata": {},
   "outputs": [],
   "source": [
    "with open('../input/D02.txt', 'r') as f:\n",
    "    codes = [int(c) for c in f.read().split(',')]"
   ]
  },
  {
   "cell_type": "code",
   "execution_count": 29,
   "metadata": {},
   "outputs": [],
   "source": [
    "def intcode_computer(codes):\n",
    "    i=0\n",
    "    while i<len(codes):\n",
    "        code = codes[i]\n",
    "        if code == 99: break;\n",
    "        elif code == 1:\n",
    "            codes[codes[i+3]] = codes[codes[i+1]]+codes[codes[i+2]]\n",
    "            i+=4\n",
    "        elif code == 2:\n",
    "            codes[codes[i+3]] = codes[codes[i+1]]*codes[codes[i+2]]\n",
    "            i+=4\n",
    "    return codes"
   ]
  },
  {
   "cell_type": "code",
   "execution_count": 36,
   "metadata": {},
   "outputs": [
    {
     "data": {
      "text/plain": [
       "2692315"
      ]
     },
     "execution_count": 36,
     "metadata": {},
     "output_type": "execute_result"
    }
   ],
   "source": [
    "data = codes.copy()\n",
    "noun = 12\n",
    "verb = 2\n",
    "data[1] = noun\n",
    "data[2] = verb\n",
    "intcode_computer(data)[0]"
   ]
  },
  {
   "cell_type": "code",
   "execution_count": 38,
   "metadata": {},
   "outputs": [
    {
     "data": {
      "text/plain": [
       "9507"
      ]
     },
     "execution_count": 38,
     "metadata": {},
     "output_type": "execute_result"
    }
   ],
   "source": [
    "def find_noun_verb(value):\n",
    "    for n in range(0,100):\n",
    "        for v in range(0, 100):\n",
    "            data = codes.copy()\n",
    "            data[1] = n\n",
    "            data[2] = v\n",
    "            if intcode_computer(data)[0] == value:\n",
    "                return 100*n+v\n",
    "    return None\n",
    "find_noun_verb(19690720)"
   ]
  },
  {
   "cell_type": "code",
   "execution_count": null,
   "metadata": {},
   "outputs": [],
   "source": []
  }
 ],
 "metadata": {
  "kernelspec": {
   "display_name": "Python 3.8.3 ('04._ML_Utils--A1wxRDZ')",
   "language": "python",
   "name": "python3"
  },
  "language_info": {
   "codemirror_mode": {
    "name": "ipython",
    "version": 3
   },
   "file_extension": ".py",
   "mimetype": "text/x-python",
   "name": "python",
   "nbconvert_exporter": "python",
   "pygments_lexer": "ipython3",
   "version": "3.8.3"
  },
  "orig_nbformat": 4,
  "vscode": {
   "interpreter": {
    "hash": "57693568fa95845605be3da01a234f4a467a6c93ef13b9c34187abb07900ecfa"
   }
  }
 },
 "nbformat": 4,
 "nbformat_minor": 2
}
