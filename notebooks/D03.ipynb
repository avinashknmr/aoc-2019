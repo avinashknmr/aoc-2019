{
 "cells": [
  {
   "cell_type": "markdown",
   "metadata": {},
   "source": [
    "[Day 3: Crossed Wires](https://adventofcode.com/2019/day/3)"
   ]
  },
  {
   "cell_type": "code",
   "execution_count": 1,
   "metadata": {},
   "outputs": [],
   "source": [
    "import numpy as np"
   ]
  },
  {
   "cell_type": "code",
   "execution_count": 11,
   "metadata": {},
   "outputs": [],
   "source": [
    "with open('../input/D03.txt', 'r') as f:\n",
    "    wires_instructions = [p.strip().split(',') for p in f.readlines()]"
   ]
  },
  {
   "cell_type": "code",
   "execution_count": 24,
   "metadata": {},
   "outputs": [],
   "source": [
    "def wire_path(wire_instructions):\n",
    "    pos = (0,0)\n",
    "    step = 0\n",
    "    path = {}\n",
    "    update_position = {'U': lambda x, y: (x, y+1), 'D': lambda x, y: (x, y-1), 'R': lambda x, y: (x+1, y), 'L': lambda x, y: (x-1, y)}\n",
    "    for i in wire_instructions:\n",
    "        direction, length = i[0], int(i[1:])\n",
    "        while length>0:\n",
    "            pos = update_position[direction](*pos)\n",
    "            length-=1\n",
    "            step += 1\n",
    "            if pos not in path:\n",
    "                path[pos] = step\n",
    "    return path\n",
    "\n",
    "wires = [wire_path(wire_instructions) for wire_instructions in wires_instructions]\n"
   ]
  },
  {
   "cell_type": "code",
   "execution_count": 25,
   "metadata": {},
   "outputs": [
    {
     "data": {
      "text/plain": [
       "1225"
      ]
     },
     "execution_count": 25,
     "metadata": {},
     "output_type": "execute_result"
    }
   ],
   "source": [
    "intersection_points = set(wires[0].keys()).intersection(set(wires[1].keys()))\n",
    "min([abs(x)+abs(y) for x, y in intersection_points])"
   ]
  },
  {
   "cell_type": "code",
   "execution_count": 30,
   "metadata": {},
   "outputs": [
    {
     "data": {
      "text/plain": [
       "107036"
      ]
     },
     "execution_count": 30,
     "metadata": {},
     "output_type": "execute_result"
    }
   ],
   "source": [
    "min([wires[0][pos]+wires[1][pos] for pos in intersection_points])"
   ]
  },
  {
   "cell_type": "code",
   "execution_count": null,
   "metadata": {},
   "outputs": [],
   "source": []
  }
 ],
 "metadata": {
  "kernelspec": {
   "display_name": "Python 3.8.3 ('04._ML_Utils--A1wxRDZ')",
   "language": "python",
   "name": "python3"
  },
  "language_info": {
   "codemirror_mode": {
    "name": "ipython",
    "version": 3
   },
   "file_extension": ".py",
   "mimetype": "text/x-python",
   "name": "python",
   "nbconvert_exporter": "python",
   "pygments_lexer": "ipython3",
   "version": "3.8.3"
  },
  "orig_nbformat": 4,
  "vscode": {
   "interpreter": {
    "hash": "57693568fa95845605be3da01a234f4a467a6c93ef13b9c34187abb07900ecfa"
   }
  }
 },
 "nbformat": 4,
 "nbformat_minor": 2
}
