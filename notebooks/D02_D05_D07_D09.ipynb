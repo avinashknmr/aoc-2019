{
 "cells": [
  {
   "cell_type": "markdown",
   "metadata": {},
   "source": [
    "[Day 2: 1202 Program Alarm](https://adventofcode.com/2019/day/2)"
   ]
  },
  {
   "cell_type": "code",
   "execution_count": 1,
   "metadata": {},
   "outputs": [],
   "source": [
    "import numpy as np\n",
    "from itertools import product"
   ]
  },
  {
   "cell_type": "code",
   "execution_count": 2,
   "metadata": {},
   "outputs": [],
   "source": [
    "with open('../input/D02.txt', 'r') as f:\n",
    "    codes = [int(c) for c in f.read().split(',')]"
   ]
  },
  {
   "cell_type": "code",
   "execution_count": 3,
   "metadata": {},
   "outputs": [],
   "source": [
    "def intcode_computer(codes, pointer=0, input=None):\n",
    "    output = []\n",
    "    relative_base = 0\n",
    "    def get_value(mode, value):\n",
    "        if mode == 0: return codes[value]\n",
    "        elif mode == 1: return value\n",
    "        elif mode == 2: return codes[value] + relative_base\n",
    "    while True:\n",
    "        instruction = str(codes[pointer]).zfill(5)\n",
    "        code, mode = int(instruction[-2:]), [int(d) for d in instruction[-3::-1]]\n",
    "        if code == 99 or (code == 3 and not input):\n",
    "            return code, output, pointer\n",
    "        elif code == 1:\n",
    "            codes[get_value(mode[2], pointer+3)] = codes[get_value(mode[0], pointer+1)]+codes[get_value(mode[1], pointer+2)]\n",
    "            pointer += 4\n",
    "        elif code == 2:\n",
    "            codes[get_value(mode[2], pointer+3)] = codes[get_value(mode[0], pointer+1)]*codes[get_value(mode[1], pointer+2)]\n",
    "            pointer += 4\n",
    "        elif code == 3:\n",
    "            codes[get_value(mode[0], pointer+1)] = input.pop(0)\n",
    "            pointer += 2\n",
    "        elif code == 4:\n",
    "            output.append(codes[get_value(mode[0], pointer+1)])\n",
    "            pointer += 2\n",
    "        elif code == 5:\n",
    "            pointer = codes[get_value(mode[1], pointer+2)] if codes[get_value(mode[0], pointer+1)] else pointer+3\n",
    "        elif code == 6:\n",
    "            pointer = pointer+3 if codes[get_value(mode[0], pointer+1)] else codes[get_value(mode[1], pointer+2)]\n",
    "        elif code == 7:\n",
    "            codes[get_value(mode[2], pointer+3)] = 1 if codes[get_value(mode[0], pointer+1)] < codes[get_value(mode[1], pointer+2)] else 0\n",
    "            pointer += 4\n",
    "        elif code == 8:\n",
    "            codes[get_value(mode[2], pointer+3)] = 1 if codes[get_value(mode[0], pointer+1)] == codes[get_value(mode[1], pointer+2)] else 0\n",
    "            pointer += 4\n",
    "        elif code == 9:\n",
    "            relative_base += (codes[get_value(mode[0], pointer+1)])\n",
    "            pointer += 2"
   ]
  },
  {
   "cell_type": "code",
   "execution_count": 4,
   "metadata": {},
   "outputs": [
    {
     "data": {
      "text/plain": [
       "2692315"
      ]
     },
     "execution_count": 4,
     "metadata": {},
     "output_type": "execute_result"
    }
   ],
   "source": [
    "noun = 12\n",
    "verb = 2\n",
    "def set_noun_verb(codes, n, v):\n",
    "    data = codes.copy()\n",
    "    data[1] = n\n",
    "    data[2] = v\n",
    "    intcode_computer(data)\n",
    "    return data[0]\n",
    "set_noun_verb(codes.copy(), noun, verb)"
   ]
  },
  {
   "cell_type": "code",
   "execution_count": 5,
   "metadata": {},
   "outputs": [
    {
     "data": {
      "text/plain": [
       "9507"
      ]
     },
     "execution_count": 5,
     "metadata": {},
     "output_type": "execute_result"
    }
   ],
   "source": [
    "def find_noun_verb(codes, value):\n",
    "    for n, v in product(range(100), range(100)):\n",
    "        if set_noun_verb(codes, n, v) == value:\n",
    "            return 100*n+v\n",
    "    return None\n",
    "find_noun_verb(codes.copy(), 19690720)"
   ]
  },
  {
   "cell_type": "markdown",
   "metadata": {},
   "source": [
    "[Day 5: Sunny with a Chance of Asteroids](https://adventofcode.com/2019/day/5)"
   ]
  },
  {
   "cell_type": "code",
   "execution_count": 6,
   "metadata": {},
   "outputs": [],
   "source": [
    "with open('../input/D05.txt', 'r') as f:\n",
    "    codes = [int(c) for c in f.read().split(',')]"
   ]
  },
  {
   "cell_type": "code",
   "execution_count": 7,
   "metadata": {},
   "outputs": [
    {
     "data": {
      "text/plain": [
       "[0, 0, 0, 0, 0, 0, 0, 0, 0, 6069343]"
      ]
     },
     "execution_count": 7,
     "metadata": {},
     "output_type": "execute_result"
    }
   ],
   "source": [
    "intcode_computer(codes.copy(), input=[1])[1]"
   ]
  },
  {
   "cell_type": "code",
   "execution_count": 8,
   "metadata": {},
   "outputs": [
    {
     "data": {
      "text/plain": [
       "[3188550]"
      ]
     },
     "execution_count": 8,
     "metadata": {},
     "output_type": "execute_result"
    }
   ],
   "source": [
    "intcode_computer(codes.copy(), input=[5])[1]"
   ]
  },
  {
   "cell_type": "markdown",
   "metadata": {},
   "source": [
    "[Day 7: Amplification Circuit](https://adventofcode.com/2019/day/7)"
   ]
  },
  {
   "cell_type": "code",
   "execution_count": 9,
   "metadata": {},
   "outputs": [],
   "source": [
    "with open('../input/D07.txt', 'r') as f:\n",
    "    codes = [int(c) for c in f.read().split(',')]"
   ]
  },
  {
   "cell_type": "code",
   "execution_count": 10,
   "metadata": {},
   "outputs": [],
   "source": [
    "from itertools import permutations"
   ]
  },
  {
   "cell_type": "code",
   "execution_count": 11,
   "metadata": {},
   "outputs": [],
   "source": [
    "def get_highest_signal(codes, settings, feedback=False):\n",
    "    highest_signal = 0\n",
    "    final_setting = None\n",
    "    for setting in permutations(settings):\n",
    "        amplifier = 0\n",
    "        codes_setting = dict((setup, codes.copy()) for setup in setting)\n",
    "        pointer_setting = dict((setup, 0) for setup in setting)\n",
    "        input_setting = dict((setup, [setup]) for setup in setting)\n",
    "        input_setting[setting[0]].append(0)\n",
    "        while amplifier<len(setting) or feedback:\n",
    "            setup = setting[amplifier % len(setting)]\n",
    "            opcode, output, pointer_setting[setup] = intcode_computer(codes_setting[setup], pointer=pointer_setting[setup], input=input_setting[setup]) # My Code\n",
    "            next_setup = setting[(amplifier+1) % len(setting)]\n",
    "            input_setting[next_setup] += output\n",
    "            if opcode == 99 and not (amplifier + 1) % len(setting):\n",
    "                break\n",
    "            amplifier += 1\n",
    "        if output[0]>highest_signal:\n",
    "            highest_signal = output[0]\n",
    "            final_setting = setting\n",
    "    return highest_signal, final_setting"
   ]
  },
  {
   "cell_type": "code",
   "execution_count": 12,
   "metadata": {},
   "outputs": [
    {
     "data": {
      "text/plain": [
       "(75228, (0, 3, 4, 2, 1))"
      ]
     },
     "execution_count": 12,
     "metadata": {},
     "output_type": "execute_result"
    }
   ],
   "source": [
    "get_highest_signal(codes.copy(), range(5), feedback=False)"
   ]
  },
  {
   "cell_type": "code",
   "execution_count": 13,
   "metadata": {},
   "outputs": [
    {
     "data": {
      "text/plain": [
       "(79846026, (6, 7, 9, 5, 8))"
      ]
     },
     "execution_count": 13,
     "metadata": {},
     "output_type": "execute_result"
    }
   ],
   "source": [
    "get_highest_signal(codes.copy(), range(5, 10), feedback=True)"
   ]
  },
  {
   "cell_type": "markdown",
   "metadata": {},
   "source": [
    "[Day 9: Sensor Boost](https://adventofcode.com/2019/day/9)"
   ]
  },
  {
   "cell_type": "code",
   "execution_count": 14,
   "metadata": {},
   "outputs": [],
   "source": [
    "from collections import defaultdict\n",
    "with open('../input/D09.txt', 'r') as f:\n",
    "    codes = [int(c) for c in f.read().split(',')]\n",
    "    codes = defaultdict(lambda: 0, zip(range(len(codes)), codes))"
   ]
  },
  {
   "cell_type": "code",
   "execution_count": 15,
   "metadata": {},
   "outputs": [
    {
     "data": {
      "text/plain": [
       "[3839402290]"
      ]
     },
     "execution_count": 15,
     "metadata": {},
     "output_type": "execute_result"
    }
   ],
   "source": [
    "intcode_computer(codes.copy(), input=[1])[1]"
   ]
  },
  {
   "cell_type": "code",
   "execution_count": 16,
   "metadata": {},
   "outputs": [
    {
     "data": {
      "text/plain": [
       "[35734]"
      ]
     },
     "execution_count": 16,
     "metadata": {},
     "output_type": "execute_result"
    }
   ],
   "source": [
    "intcode_computer(codes.copy(), input=[2])[1]"
   ]
  },
  {
   "cell_type": "markdown",
   "metadata": {},
   "source": [
    "Taken from **Dor Kedem** code"
   ]
  },
  {
   "cell_type": "code",
   "execution_count": 17,
   "metadata": {},
   "outputs": [],
   "source": [
    "from operator import add, mul, lt, eq\n",
    "from copy import copy\n",
    "\n",
    "def exec_intcode_program(program, op_pointer=0, inputs=None):\n",
    "    \"\"\" Executes the intcode program, used in days 2, 5, 7 & 9 of Advent of Code 2019. \n",
    "        - program: The program to execute.\n",
    "        - op_pointer: The pointer to the op to start the program at.\n",
    "        - inputs: The set of inputs for the program when it is requested. \n",
    "        The program will be adjusted, and will stop when requested to (op=99),\n",
    "        or when requested for input (op=3) without available input.\n",
    "        \"\"\"\n",
    "    # Define the relative base of the operations.\n",
    "    relative_base = 0\n",
    "    def change_relative_base(change): \n",
    "        nonlocal relative_base \n",
    "        relative_base += change\n",
    "    # Define the program operations.\n",
    "    opcode_details = {\n",
    "        1: {\"in_params_count\": 2, \"store_output\": 1, \"op\": add}, \n",
    "        2: {\"in_params_count\": 2, \"store_output\": 1, \"op\": mul}, \n",
    "        3: {\"in_params_count\": 0, \"store_output\": 1, \"op\": lambda: inputs.pop(0)}, \n",
    "        4: {\"in_params_count\": 1, \"store_output\": 0, \"op\": lambda x: outputs.append(x)},\n",
    "        5: {\"in_params_count\": 2, \"store_output\": 0, \"op\": lambda cond, addr: addr if cond else None},\n",
    "        6: {\"in_params_count\": 2, \"store_output\": 0, \"op\": lambda cond, addr: None if cond else addr},\n",
    "        7: {\"in_params_count\": 2, \"store_output\": 1, \"op\": lt},\n",
    "        8: {\"in_params_count\": 2, \"store_output\": 1, \"op\": eq},\n",
    "        9: {\"in_params_count\": 1, \"store_output\": 0, \"op\": change_relative_base}\n",
    "    }\n",
    "    # Define the logic to converting parameters to their values' addresses from the param mode.\n",
    "    def get_param_value_address(param_address, param_mode):\n",
    "        if   param_mode == 0: return program[param_address]\n",
    "        elif param_mode == 1: return param_address\n",
    "        elif param_mode == 2: return program[param_address] + relative_base\n",
    "    # Start the program.\n",
    "    outputs = []\n",
    "    while True:\n",
    "        # Break down op pointer to op instruction parts.\n",
    "        op_instruction = str(program[op_pointer]).zfill(5)\n",
    "        opcode, param_modes = int(op_instruction[-2:]), [int(digit) for digit in op_instruction[-3::-1]]\n",
    "        # Make sure we don't need to stop the program.\n",
    "        if opcode == 99 or (opcode == 3 and not inputs):\n",
    "            return opcode, op_pointer, outputs \n",
    "        # Retrieve opcode details from opcode.\n",
    "        in_params_count = opcode_details[opcode][\"in_params_count\"]\n",
    "        store_output    = opcode_details[opcode][\"store_output\"]\n",
    "        op              = opcode_details[opcode][\"op\"]\n",
    "        # Retrieve parameter value address from the param mode.\n",
    "        in_params_values = [program[get_param_value_address(param_address, param_mode)] for param_address, param_mode\n",
    "                            in zip(range(op_pointer+1, op_pointer+1+in_params_count), param_modes[:in_params_count])]\n",
    "        # Execute the operation.\n",
    "        out_val = op(*in_params_values)\n",
    "        # Store the output in the out_param specified address if required.\n",
    "        if store_output:\n",
    "            out_address = get_param_value_address(param_address=op_pointer + 1 + in_params_count,\n",
    "                                                  param_mode=param_modes[in_params_count])\n",
    "            program[out_address] = out_val\n",
    "        # Advance the op pointer (jump if successful jump command, advance otherwise)\n",
    "        op_pointer = (out_val if (opcode in [5,6] and out_val is not None) \n",
    "                      else op_pointer + 1 + in_params_count + store_output)"
   ]
  }
 ],
 "metadata": {
  "kernelspec": {
   "display_name": "Python 3.9.13 ('AOC-f0fObxNH')",
   "language": "python",
   "name": "python3"
  },
  "language_info": {
   "codemirror_mode": {
    "name": "ipython",
    "version": 3
   },
   "file_extension": ".py",
   "mimetype": "text/x-python",
   "name": "python",
   "nbconvert_exporter": "python",
   "pygments_lexer": "ipython3",
   "version": "3.9.13"
  },
  "orig_nbformat": 4,
  "vscode": {
   "interpreter": {
    "hash": "4d2e615df860dbb8dab799da6c49ca2875c6babc41706b5923d6502e2954ccfd"
   }
  }
 },
 "nbformat": 4,
 "nbformat_minor": 2
}
