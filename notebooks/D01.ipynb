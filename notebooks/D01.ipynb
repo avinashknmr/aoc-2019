{
 "cells": [
  {
   "cell_type": "markdown",
   "metadata": {},
   "source": [
    "[Day 1: The Tyranny of the Rocket Equation](https://adventofcode.com/2019/day/1)"
   ]
  },
  {
   "cell_type": "code",
   "execution_count": 4,
   "metadata": {},
   "outputs": [],
   "source": [
    "import numpy as np"
   ]
  },
  {
   "cell_type": "code",
   "execution_count": 3,
   "metadata": {},
   "outputs": [],
   "source": [
    "with open('../input/D01.txt', 'r') as f:\n",
    "    masses = [int(m.replace('\\n','')) for m in f.readlines()]"
   ]
  },
  {
   "cell_type": "code",
   "execution_count": 17,
   "metadata": {},
   "outputs": [],
   "source": [
    "def fuel_requirement(masses, recursive=False):\n",
    "    fuel = 0\n",
    "    for mass in masses:\n",
    "        while True:\n",
    "            additional_fuel = mass//3 - 2\n",
    "            if additional_fuel<=0: break;\n",
    "            fuel, mass = fuel+additional_fuel, additional_fuel\n",
    "            if not recursive: break;\n",
    "    return fuel"
   ]
  },
  {
   "cell_type": "code",
   "execution_count": 20,
   "metadata": {},
   "outputs": [
    {
     "name": "stdout",
     "output_type": "stream",
     "text": [
      "What is the sum of the fuel requirements - 3342351\n",
      "What is the sum of the fuel requirements - 5010664\n"
     ]
    }
   ],
   "source": [
    "a1 = fuel_requirement(masses)\n",
    "a2 = fuel_requirement(masses, True)\n",
    "print(f'What is the sum of the fuel requirements - {a1}')\n",
    "print(f'What is the sum of the fuel requirements - {a2}')"
   ]
  },
  {
   "cell_type": "code",
   "execution_count": null,
   "metadata": {},
   "outputs": [],
   "source": []
  }
 ],
 "metadata": {
  "kernelspec": {
   "display_name": "Python 3.9.13 ('AOC-f0fObxNH')",
   "language": "python",
   "name": "python3"
  },
  "language_info": {
   "codemirror_mode": {
    "name": "ipython",
    "version": 3
   },
   "file_extension": ".py",
   "mimetype": "text/x-python",
   "name": "python",
   "nbconvert_exporter": "python",
   "pygments_lexer": "ipython3",
   "version": "3.9.13"
  },
  "orig_nbformat": 4,
  "vscode": {
   "interpreter": {
    "hash": "4d2e615df860dbb8dab799da6c49ca2875c6babc41706b5923d6502e2954ccfd"
   }
  }
 },
 "nbformat": 4,
 "nbformat_minor": 2
}
