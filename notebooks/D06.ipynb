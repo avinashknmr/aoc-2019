{
 "cells": [
  {
   "cell_type": "code",
   "execution_count": 1,
   "metadata": {},
   "outputs": [],
   "source": [
    "import networkx as nx"
   ]
  },
  {
   "cell_type": "code",
   "execution_count": 3,
   "metadata": {},
   "outputs": [],
   "source": [
    "with open('../input/D06.txt', 'r') as f:\n",
    "    object_relations = [tuple(x.strip().split(')')) for x in f.readlines()]"
   ]
  },
  {
   "cell_type": "code",
   "execution_count": 52,
   "metadata": {},
   "outputs": [
    {
     "data": {
      "text/plain": [
       "300598"
      ]
     },
     "execution_count": 52,
     "metadata": {},
     "output_type": "execute_result"
    }
   ],
   "source": [
    "def total_connections(g):\n",
    "    root_node='COM'\n",
    "    to_visit, connections, orbit_path = [root_node], set(), {root_node: set()}\n",
    "    while to_visit:\n",
    "        from_node = to_visit.pop()\n",
    "        for to_node in g[from_node]:\n",
    "            to_visit.append(to_node)\n",
    "            orbit_path[to_node] = orbit_path[from_node].union([from_node])\n",
    "            connections = connections.union((from_node_, to_node) for from_node_ in orbit_path[to_node])\n",
    "            \n",
    "    return connections, orbit_path\n",
    "\n",
    "g = nx.DiGraph(object_relations)\n",
    "connections, orbit_path = total_connections(g)\n",
    "len(connections)"
   ]
  },
  {
   "cell_type": "code",
   "execution_count": 53,
   "metadata": {},
   "outputs": [
    {
     "data": {
      "text/plain": [
       "520"
      ]
     },
     "execution_count": 53,
     "metadata": {},
     "output_type": "execute_result"
    }
   ],
   "source": [
    "len(orbit_path['YOU'].symmetric_difference(orbit_path['SAN']))"
   ]
  }
 ],
 "metadata": {
  "kernelspec": {
   "display_name": "Python 3.9.13 ('AOC-f0fObxNH')",
   "language": "python",
   "name": "python3"
  },
  "language_info": {
   "codemirror_mode": {
    "name": "ipython",
    "version": 3
   },
   "file_extension": ".py",
   "mimetype": "text/x-python",
   "name": "python",
   "nbconvert_exporter": "python",
   "pygments_lexer": "ipython3",
   "version": "3.9.13"
  },
  "orig_nbformat": 4,
  "vscode": {
   "interpreter": {
    "hash": "4d2e615df860dbb8dab799da6c49ca2875c6babc41706b5923d6502e2954ccfd"
   }
  }
 },
 "nbformat": 4,
 "nbformat_minor": 2
}
